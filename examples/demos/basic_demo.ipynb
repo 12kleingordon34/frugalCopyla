{
 "cells": [
  {
   "cell_type": "markdown",
   "id": "ee9b40af-7d5a-4fff-9e72-8625209de6f3",
   "metadata": {},
   "source": [
    "# Test environment for package development"
   ]
  },
  {
   "cell_type": "code",
   "execution_count": 1,
   "id": "43b6759f-9968-473e-9d81-c2227790e156",
   "metadata": {
    "tags": []
   },
   "outputs": [
    {
     "name": "stderr",
     "output_type": "stream",
     "text": [
      "/Users/danielmanela/.virtualenvs/frugalCopyla/lib/python3.11/site-packages/tqdm/auto.py:21: TqdmWarning: IProgress not found. Please update jupyter and ipywidgets. See https://ipywidgets.readthedocs.io/en/stable/user_install.html\n",
      "  from .autonotebook import tqdm as notebook_tqdm\n"
     ]
    }
   ],
   "source": [
    "import math\n",
    "\n",
    "import jax\n",
    "import jax.numpy as jnp\n",
    "import matplotlib.pyplot as plt\n",
    "import numpy as np\n",
    "import numpyro\n",
    "import numpyro.distributions as dist\n",
    "import pandas as pd\n",
    "import tqdm\n",
    "\n",
    "from frugalCopyla import copula_lpdfs\n",
    "from frugalCopyla.model\timport CopulaModel"
   ]
  },
  {
   "cell_type": "markdown",
   "id": "bc8c208c-e355-4b61-860d-30112c245c1a",
   "metadata": {},
   "source": [
    "### Basic Trivariate Gaussian"
   ]
  },
  {
   "cell_type": "markdown",
   "id": "bc656696-8e3c-4697-acbf-976438d7d665",
   "metadata": {},
   "source": [
    "We can generate data from a trivariate Gaussian whose copula correlation between $Z$ and $Y$ is a parametric function of $X$. We can generate data from it as follows:"
   ]
  },
  {
   "cell_type": "code",
   "execution_count": 2,
   "id": "99f08d99-d07d-417e-b6ab-80801a0c24ed",
   "metadata": {},
   "outputs": [],
   "source": [
    "rho = 0.5\n",
    "input_template = {\n",
    "    'Z': {'dist': dist.Normal, 'formula': {'loc': 'Z ~ 1', 'scale': 'Z ~ 1'}, 'coeffs': {'loc': [0.], 'scale': [1.]}, 'link': {}},\n",
    "    'X': {'dist': dist.Normal, 'formula': {'loc': 'X ~ Z', 'scale': 'X ~ Z'}, 'coeffs': {'loc': [0., rho], 'scale': [0., jnp.sqrt(1 - jnp.square(rho))]}, 'link': {}},\n",
    "    'Y': {'dist': dist.Normal, 'formula': {'loc': 'Y ~ X', 'scale': 'Y ~ 1'}, 'coeffs': {'loc': [-0.5, rho], 'scale': [1.]}, 'link': {}},\n",
    "    'copula': {\n",
    "        'class': copula_lpdfs.multivar_gaussian_copula_lpdf,\n",
    "        'vars': ['Z', 'Y'],\n",
    "        'formula': {'rho_ZY': 'cop ~ X'},\n",
    "        'coeffs': {'rho_ZY': [1., 0.5]},\n",
    "        'link': {'rho_ZY': jax.scipy.special.expit}, \n",
    "        'misc': {}\n",
    "    }\n",
    "}"
   ]
  },
  {
   "cell_type": "code",
   "execution_count": 3,
   "id": "ec6228af-efd6-492c-a048-73e8500c8ff5",
   "metadata": {},
   "outputs": [
    {
     "name": "stdout",
     "output_type": "stream",
     "text": [
      "WARNING: CHECK PASSES AUTOMATICALLY. FULL SOLUTION ADDED TBC\n"
     ]
    }
   ],
   "source": [
    "mod = CopulaModel(input_template)"
   ]
  },
  {
   "cell_type": "code",
   "execution_count": 4,
   "id": "02cd7d65-d51d-4af8-a5a3-f73598a366c3",
   "metadata": {},
   "outputs": [
    {
     "name": "stderr",
     "output_type": "stream",
     "text": [
      "/Users/danielmanela/Library/CloudStorage/GoogleDrive-danielmanela@gmail.com/My Drive/work/Oxford/Causal_Copulas/frugalCopyla/frugalCopyla/model.py:122: UserWarning: There are not enough devices to run parallel chains: expected 4 but got 1. Chains will be drawn sequentially. If you are running MCMC in CPU, consider using `numpyro.set_host_device_count(4)` at the beginning of your program. You can double-check how many devices are available in your system using `jax.local_device_count()`.\n",
      "  mcmc_model = numpyro.infer.MCMC(\n"
     ]
    },
    {
     "data": {
      "text/plain": [
       "{'X': Array([ 0.13711222,  0.04214668,  0.40378597, ...,  0.10699014,\n",
       "         0.10699014, -0.08555061], dtype=float32),\n",
       " 'Y': Array([ 0.24860159,  0.01503011, -0.1449842 , ..., -2.5084546 ,\n",
       "        -2.5084546 , -2.2631826 ], dtype=float32),\n",
       " 'Z': Array([0.283963  , 0.4090846 , 0.37885004, ..., 0.18347123, 0.18347123,\n",
       "        0.17154627], dtype=float32),\n",
       " 'q_Y': Array([0.75176215, 0.68933165, 0.5608493 , ..., 0.01960627, 0.01960627,\n",
       "        0.04267923], dtype=float32),\n",
       " 'q_Z': Array([0.61178064, 0.6587612 , 0.6476004 , ..., 0.57278585, 0.57278585,\n",
       "        0.56810284], dtype=float32),\n",
       " 'rho_ZY': Array([0.7443222 , 0.7351816 , 0.76886135, ..., 0.7414455 , 0.7414455 ,\n",
       "        0.72256577], dtype=float32)}"
      ]
     },
     "execution_count": 4,
     "metadata": {},
     "output_type": "execute_result"
    }
   ],
   "source": [
    "sim_data = mod.simulate_data(num_warmup=1000, num_samples=1_000_000, joint_status='continuous', num_chains=4, seed=0)\n",
    "sim_data['data']"
   ]
  },
  {
   "cell_type": "markdown",
   "id": "b52d2a84-2197-4fcd-9590-dc4aafc2bbb2",
   "metadata": {},
   "source": [
    "To access the data simply extract it from the `sim_data` object:"
   ]
  },
  {
   "cell_type": "code",
   "execution_count": 5,
   "id": "e068eaeb-263f-4280-aded-5c74fa21e770",
   "metadata": {},
   "outputs": [
    {
     "data": {
      "text/html": [
       "<div>\n",
       "<style scoped>\n",
       "    .dataframe tbody tr th:only-of-type {\n",
       "        vertical-align: middle;\n",
       "    }\n",
       "\n",
       "    .dataframe tbody tr th {\n",
       "        vertical-align: top;\n",
       "    }\n",
       "\n",
       "    .dataframe thead th {\n",
       "        text-align: right;\n",
       "    }\n",
       "</style>\n",
       "<table border=\"1\" class=\"dataframe\">\n",
       "  <thead>\n",
       "    <tr style=\"text-align: right;\">\n",
       "      <th></th>\n",
       "      <th>X</th>\n",
       "      <th>Y</th>\n",
       "      <th>Z</th>\n",
       "      <th>q_Y</th>\n",
       "      <th>q_Z</th>\n",
       "      <th>rho_ZY</th>\n",
       "    </tr>\n",
       "  </thead>\n",
       "  <tbody>\n",
       "    <tr>\n",
       "      <th>0</th>\n",
       "      <td>0.137112</td>\n",
       "      <td>0.248602</td>\n",
       "      <td>0.283963</td>\n",
       "      <td>0.751762</td>\n",
       "      <td>0.611781</td>\n",
       "      <td>0.744322</td>\n",
       "    </tr>\n",
       "    <tr>\n",
       "      <th>1</th>\n",
       "      <td>0.042147</td>\n",
       "      <td>0.015030</td>\n",
       "      <td>0.409085</td>\n",
       "      <td>0.689332</td>\n",
       "      <td>0.658761</td>\n",
       "      <td>0.735182</td>\n",
       "    </tr>\n",
       "    <tr>\n",
       "      <th>2</th>\n",
       "      <td>0.403786</td>\n",
       "      <td>-0.144984</td>\n",
       "      <td>0.378850</td>\n",
       "      <td>0.560849</td>\n",
       "      <td>0.647600</td>\n",
       "      <td>0.768861</td>\n",
       "    </tr>\n",
       "    <tr>\n",
       "      <th>3</th>\n",
       "      <td>0.430668</td>\n",
       "      <td>-0.140712</td>\n",
       "      <td>0.237147</td>\n",
       "      <td>0.557232</td>\n",
       "      <td>0.593729</td>\n",
       "      <td>0.771241</td>\n",
       "    </tr>\n",
       "    <tr>\n",
       "      <th>4</th>\n",
       "      <td>0.260174</td>\n",
       "      <td>-0.206422</td>\n",
       "      <td>0.246426</td>\n",
       "      <td>0.564934</td>\n",
       "      <td>0.597324</td>\n",
       "      <td>0.755855</td>\n",
       "    </tr>\n",
       "    <tr>\n",
       "      <th>5</th>\n",
       "      <td>0.260039</td>\n",
       "      <td>-0.122274</td>\n",
       "      <td>0.349082</td>\n",
       "      <td>0.597819</td>\n",
       "      <td>0.636486</td>\n",
       "      <td>0.755842</td>\n",
       "    </tr>\n",
       "    <tr>\n",
       "      <th>6</th>\n",
       "      <td>0.211441</td>\n",
       "      <td>-0.175757</td>\n",
       "      <td>0.422340</td>\n",
       "      <td>0.586489</td>\n",
       "      <td>0.663612</td>\n",
       "      <td>0.751330</td>\n",
       "    </tr>\n",
       "    <tr>\n",
       "      <th>7</th>\n",
       "      <td>-0.152626</td>\n",
       "      <td>-0.036444</td>\n",
       "      <td>0.263699</td>\n",
       "      <td>0.705356</td>\n",
       "      <td>0.603994</td>\n",
       "      <td>0.715793</td>\n",
       "    </tr>\n",
       "    <tr>\n",
       "      <th>8</th>\n",
       "      <td>0.009739</td>\n",
       "      <td>-0.455745</td>\n",
       "      <td>0.445026</td>\n",
       "      <td>0.515709</td>\n",
       "      <td>0.671849</td>\n",
       "      <td>0.732015</td>\n",
       "    </tr>\n",
       "    <tr>\n",
       "      <th>9</th>\n",
       "      <td>-0.301645</td>\n",
       "      <td>-0.122641</td>\n",
       "      <td>0.338742</td>\n",
       "      <td>0.701313</td>\n",
       "      <td>0.632598</td>\n",
       "      <td>0.700395</td>\n",
       "    </tr>\n",
       "  </tbody>\n",
       "</table>\n",
       "</div>"
      ],
      "text/plain": [
       "          X         Y         Z       q_Y       q_Z    rho_ZY\n",
       "0  0.137112  0.248602  0.283963  0.751762  0.611781  0.744322\n",
       "1  0.042147  0.015030  0.409085  0.689332  0.658761  0.735182\n",
       "2  0.403786 -0.144984  0.378850  0.560849  0.647600  0.768861\n",
       "3  0.430668 -0.140712  0.237147  0.557232  0.593729  0.771241\n",
       "4  0.260174 -0.206422  0.246426  0.564934  0.597324  0.755855\n",
       "5  0.260039 -0.122274  0.349082  0.597819  0.636486  0.755842\n",
       "6  0.211441 -0.175757  0.422340  0.586489  0.663612  0.751330\n",
       "7 -0.152626 -0.036444  0.263699  0.705356  0.603994  0.715793\n",
       "8  0.009739 -0.455745  0.445026  0.515709  0.671849  0.732015\n",
       "9 -0.301645 -0.122641  0.338742  0.701313  0.632598  0.700395"
      ]
     },
     "execution_count": 5,
     "metadata": {},
     "output_type": "execute_result"
    }
   ],
   "source": [
    "pd.DataFrame(sim_data['data']).head(10)"
   ]
  },
  {
   "cell_type": "markdown",
   "id": "145bf97c-e4d6-4b65-850b-217c80f1539a",
   "metadata": {},
   "source": [
    "## More complex"
   ]
  },
  {
   "cell_type": "markdown",
   "id": "ea622d8d-92f2-4e32-9a33-9057e2c4fbec",
   "metadata": {},
   "source": [
    "Ideally, one could specify a (linear) model with a variety of parameters, and generate samples from it. It would bypass the need to play around with a numpyro backend and allow you to generate data purely from a relatively trivial model parameterisation."
   ]
  },
  {
   "cell_type": "markdown",
   "id": "8132d994-7a09-4e65-9380-e7ffa763f8a3",
   "metadata": {},
   "source": [
    "**TO DO: pass the copula class field the actual function rather than just the string**"
   ]
  },
  {
   "cell_type": "markdown",
   "id": "177625a3-f290-412e-bed3-43de8e557f1e",
   "metadata": {},
   "source": [
    "The input should be a dictionary whose keys label the variables in your model. For each of these, specify in a sub-dictionary:\n",
    "\n",
    "* `dist`: The distribution the variable is drawn from. These must be selected from `numpyro.distributions`\n",
    "* `formula`: For each parameter in the chosen distribution, specify its linear model **only using variables defined earlier in the dictionary**. The names of the correct parameters can be found by either [searching the `numpyro` documentation]() or looking at the `arg_constraints` of the distribution by running (using the Normal as an example) : \n",
    "```\n",
    "> numpyro.distributions.Normal.arg_constraints \n",
    "\n",
    "{'loc': Real(), 'scale': GreaterThan(lower_bound=0.0)}\n",
    "```\n",
    "* `params` (name will most likely change): Specifies the linear coefficients used to generate the primary variable through the linear model. A set of coefficients must be provided for each parameter. Note that the labelling of parameters (e.g. `'formula': {'rate': 'X ~ 1 + Z + A'}, 'params': {'rate': {'x_0': 0., 'x_1': 2., 'x_2': 1}}`) does not affect the linear model. Only the order of the specification matters. For example, `x_0` will be the coefficient of the first variable in the formula (always the intercept) and `x_2` will always be the last.\n",
    "* `link` allows the user to provide an inverse link function for each of the linear formulas. For example, the command ```'X': {'dist': dist.Exponential, 'formula': {'rate': 'X ~ 1 + Z + A'}, 'params': {'rate': [0., 2., 1.]}, 'link': {'rate': jnp.exp}},``` \n",
    "will wrap the linear predictor in an exponential function such that the probabilistic model is $$X \\sim \\text{Exponential}(\\lambda=\\exp(2Z + A)).$$ **Note that the inverse link function must have a `jax` base.** If no inverse link function is require, leave it as `None`.\n",
    "    * Additionally, note that the order of the floats within `'params'` will automatically be the the order they are multiplied to the ordered variables in `'rate'`. **The intercept term will always be the first term in the parsed formula.**\n",
    "\n",
    "* `copula`: To specify a copula, first choose a `'class'` of copula from [frugalCopyla/copula_lpdfs.py](../frugalCopyla/copula_lpdfs.py). The copula functions will take in keyword arguments to calculate the log-likelihood of the copula factor. \n",
    "    * Under `vars`, provide a mapping of the variables linked by the copula and the function arguments using a dictionary. For example, the `multivar_gaussian_copula_lpdf(vars, rhos)` factor takes two variables: a list of random variables (`vars`) and a dictionary of the copula correlation matrix elements (`rhos`). If we wish to simulate a copula between `Z` and `Y`, provide `vars` the list `..., 'vars': ['Z', 'Y']`.\n",
    "    * Under `'formula'`, specify the form of the linear predictor for the parameters passed to the copula. The coefficients for the linear predictor are specified under `'params'`.\n",
    "    * Similarly to the other inputs, an inverse link function can be chosen to wrap the linear predictor specified in `'formula'` and `'params'`."
   ]
  },
  {
   "cell_type": "markdown",
   "id": "bf345d70-61f8-4bc0-9317-71e8a4a082b4",
   "metadata": {},
   "source": [
    "For example, consider the following probabilistic model:\n",
    "$$ A \\sim \\text{Bernoulli}(0.5) \\newline Z \\sim \\mathcal{N}(0, 1) \\newline X ~ \\text{Exponential}(\\exp(2Z + A) \\newline Y | \\text{do}(X) \\sim \\mathcal{N}(X - 0.5, 1)$$\n",
    "and a bivariate Gaussian copula between $Z$ and $Y$ parameterised by a fixed covariance term $\\rho_{ZY} = logit(1)$\n",
    "\n",
    "The following model is specfied in `input_dict`."
   ]
  },
  {
   "cell_type": "code",
   "execution_count": 6,
   "id": "187a2402-d2a0-485a-a9de-920e654506ec",
   "metadata": {},
   "outputs": [],
   "source": [
    "input_dict = {\n",
    "    'A': {\n",
    "        'dist': dist.BernoulliProbs, \n",
    "        'formula': {'probs': 'A ~ 1'}, \n",
    "        'coeffs': {'probs': [0.5]}, \n",
    "        'link': None\n",
    "    }, \n",
    "    'Z': {\n",
    "        'dist': dist.Normal, \n",
    "        'formula': {'loc': 'Z ~ 1', 'scale': 'Z ~ 1'}, \n",
    "        'coeffs': {'loc': [0.], 'scale': [1.]}, \n",
    "        'link': None\n",
    "    },\n",
    "    'X': {\n",
    "        'dist': dist.Exponential, \n",
    "        'formula': {'rate': 'X ~ 1 + Z + A'}, \n",
    "        'coeffs': {'rate': [0., 2., 1.]}, \n",
    "        'link': {'rate': jnp.exp}\n",
    "    },\n",
    "    'Y': {\n",
    "        'dist': dist.Normal, \n",
    "        'formula': {'loc': 'Y ~ 1 + X', 'scale': 'Y ~ 1'}, \n",
    "        'coeffs': {'loc': [-0.5, 1.], 'scale': [1.]}, \n",
    "        'link': None\n",
    "    },\n",
    "    'copula': {\n",
    "        'class': copula_lpdfs.multivar_gaussian_copula_lpdf, \n",
    "        'vars': ['Z', 'Y'], \n",
    "        'formula': {'rho_zy': 'c ~ X'}, \n",
    "        'coeffs': {'rho_zy': [0.1, 1]}, \n",
    "        'link': {'rho_zy': jax.nn.sigmoid}\n",
    "    }\n",
    "}"
   ]
  },
  {
   "cell_type": "markdown",
   "id": "3f26a62e-fbab-47f4-b68a-9dfdc0c2060f",
   "metadata": {},
   "source": [
    "Preparing the `Copula_Model`:"
   ]
  },
  {
   "cell_type": "code",
   "execution_count": 7,
   "id": "acb7a626-9630-41db-8d57-b069e5c5cbd1",
   "metadata": {},
   "outputs": [
    {
     "name": "stdout",
     "output_type": "stream",
     "text": [
      "WARNING: CHECK PASSES AUTOMATICALLY. FULL SOLUTION ADDED TBC\n"
     ]
    },
    {
     "data": {
      "text/plain": [
       "{'A': {'dist': numpyro.distributions.discrete.BernoulliProbs,\n",
       "  'formula': {'probs': 'A ~ 1'},\n",
       "  'coeffs': {'probs': [0.5]},\n",
       "  'link': {},\n",
       "  'linear_predictor': {'probs': '0.5'}},\n",
       " 'Z': {'dist': numpyro.distributions.continuous.Normal,\n",
       "  'formula': {'loc': 'Z ~ 1', 'scale': 'Z ~ 1'},\n",
       "  'coeffs': {'loc': [0.0], 'scale': [1.0]},\n",
       "  'link': {},\n",
       "  'linear_predictor': {'loc': '0.0', 'scale': '1.0'}},\n",
       " 'X': {'dist': numpyro.distributions.continuous.Exponential,\n",
       "  'formula': {'rate': \"X ~ 1 + record_dict['Z'] + record_dict['A']\"},\n",
       "  'coeffs': {'rate': [0.0, 2.0, 1.0]},\n",
       "  'link': {'rate': <PjitFunction of <function jax.numpy.exp at 0x1133b5a60>>},\n",
       "  'linear_predictor': {'rate': \"0.0 + 2.0 * record_dict['Z'] + 1.0 * record_dict['A']\"}},\n",
       " 'Y': {'dist': numpyro.distributions.continuous.Normal,\n",
       "  'formula': {'loc': \"Y ~ 1 + record_dict['X']\", 'scale': 'Y ~ 1'},\n",
       "  'coeffs': {'loc': [-0.5, 1.0], 'scale': [1.0]},\n",
       "  'link': {},\n",
       "  'linear_predictor': {'loc': \"-0.5 + 1.0 * record_dict['X']\",\n",
       "   'scale': '1.0'}},\n",
       " 'copula': {'class': <function frugalCopyla.copula_lpdfs.multivar_gaussian_copula_lpdf(vars: dict, rhos: dict) -> float>,\n",
       "  'vars': ['Z', 'Y'],\n",
       "  'corr_linear_predictor': {'rho_zy': \"0.1 + 1 * record_dict['X']\"},\n",
       "  'link': {'rho_zy': <PjitFunction of <function sigmoid at 0x1136ed040>>},\n",
       "  'misc': {}}}"
      ]
     },
     "execution_count": 7,
     "metadata": {},
     "output_type": "execute_result"
    }
   ],
   "source": [
    "cop_mod = CopulaModel(input_dict)\n",
    "cop_mod.parsed_model"
   ]
  },
  {
   "cell_type": "markdown",
   "id": "05a15b08-cc1f-4df9-933f-0bf7d0b87865",
   "metadata": {},
   "source": [
    "We can see whether the model has been parsed correctly by looking at the `'full_formula'` entries in the output.\n",
    "\n",
    "Currently, the code is set up such that each random variable in the linear model should be fetched from a dictionary named `record_dict`. That is, instead of seeing `Y ~ X + A` we should see `Y ~ record_dict['X'] + record_dict['A']`."
   ]
  },
  {
   "cell_type": "markdown",
   "id": "5ad57dfe-285f-41af-86a6-b9ce166d30e8",
   "metadata": {},
   "source": [
    "Looks ok so far. Now we can simulate from the prior using MCMC. Specify the steps for warmup and sampling, the seed (if desired), and whether the joint is `'continuous'`, `'discrete'`, or `'mixed'`. If this last step is not specified correctly you may see an error."
   ]
  },
  {
   "cell_type": "markdown",
   "id": "463e5015-46e4-4d3a-b77e-90b405bf856f",
   "metadata": {},
   "source": [
    "The simulated data is returned as a dictionary of data, along with the inverse cdf'd copula RVs (and their standard normals) of the copula parameters and the samples for the copula parameters:"
   ]
  },
  {
   "cell_type": "code",
   "execution_count": 17,
   "id": "a8950c08-b7e7-482a-8373-5870de7a9edf",
   "metadata": {},
   "outputs": [
    {
     "name": "stdout",
     "output_type": "stream",
     "text": [
      "CPU times: user 5.5 s, sys: 98.9 ms, total: 5.6 s\n",
      "Wall time: 5.56 s\n"
     ]
    },
    {
     "data": {
      "text/html": [
       "<div>\n",
       "<style scoped>\n",
       "    .dataframe tbody tr th:only-of-type {\n",
       "        vertical-align: middle;\n",
       "    }\n",
       "\n",
       "    .dataframe tbody tr th {\n",
       "        vertical-align: top;\n",
       "    }\n",
       "\n",
       "    .dataframe thead th {\n",
       "        text-align: right;\n",
       "    }\n",
       "</style>\n",
       "<table border=\"1\" class=\"dataframe\">\n",
       "  <thead>\n",
       "    <tr style=\"text-align: right;\">\n",
       "      <th></th>\n",
       "      <th>A</th>\n",
       "      <th>X</th>\n",
       "      <th>Y</th>\n",
       "      <th>Z</th>\n",
       "      <th>q_Y</th>\n",
       "      <th>q_Z</th>\n",
       "      <th>rho_zy</th>\n",
       "    </tr>\n",
       "  </thead>\n",
       "  <tbody>\n",
       "    <tr>\n",
       "      <th>count</th>\n",
       "      <td>40000.000000</td>\n",
       "      <td>4.000000e+04</td>\n",
       "      <td>40000.000000</td>\n",
       "      <td>40000.000000</td>\n",
       "      <td>40000.000000</td>\n",
       "      <td>40000.000000</td>\n",
       "      <td>40000.000000</td>\n",
       "    </tr>\n",
       "    <tr>\n",
       "      <th>mean</th>\n",
       "      <td>0.532300</td>\n",
       "      <td>7.166114e-01</td>\n",
       "      <td>0.254621</td>\n",
       "      <td>0.185240</td>\n",
       "      <td>0.505733</td>\n",
       "      <td>0.549920</td>\n",
       "      <td>0.655995</td>\n",
       "    </tr>\n",
       "    <tr>\n",
       "      <th>std</th>\n",
       "      <td>0.498962</td>\n",
       "      <td>9.710038e-01</td>\n",
       "      <td>1.019200</td>\n",
       "      <td>0.867524</td>\n",
       "      <td>0.278544</td>\n",
       "      <td>0.263961</td>\n",
       "      <td>0.145043</td>\n",
       "    </tr>\n",
       "    <tr>\n",
       "      <th>min</th>\n",
       "      <td>0.000000</td>\n",
       "      <td>9.363110e-07</td>\n",
       "      <td>-3.638135</td>\n",
       "      <td>-2.667778</td>\n",
       "      <td>0.000015</td>\n",
       "      <td>0.003818</td>\n",
       "      <td>0.524979</td>\n",
       "    </tr>\n",
       "    <tr>\n",
       "      <th>25%</th>\n",
       "      <td>0.000000</td>\n",
       "      <td>5.542057e-02</td>\n",
       "      <td>-0.448245</td>\n",
       "      <td>-0.435076</td>\n",
       "      <td>0.265147</td>\n",
       "      <td>0.331754</td>\n",
       "      <td>0.538777</td>\n",
       "    </tr>\n",
       "    <tr>\n",
       "      <th>50%</th>\n",
       "      <td>1.000000</td>\n",
       "      <td>2.554738e-01</td>\n",
       "      <td>0.225761</td>\n",
       "      <td>0.145190</td>\n",
       "      <td>0.499506</td>\n",
       "      <td>0.557720</td>\n",
       "      <td>0.587944</td>\n",
       "    </tr>\n",
       "    <tr>\n",
       "      <th>75%</th>\n",
       "      <td>1.000000</td>\n",
       "      <td>9.808741e-01</td>\n",
       "      <td>0.944640</td>\n",
       "      <td>0.757682</td>\n",
       "      <td>0.746240</td>\n",
       "      <td>0.775679</td>\n",
       "      <td>0.746659</td>\n",
       "    </tr>\n",
       "    <tr>\n",
       "      <th>max</th>\n",
       "      <td>1.000000</td>\n",
       "      <td>4.247015e+00</td>\n",
       "      <td>3.940851</td>\n",
       "      <td>4.326782</td>\n",
       "      <td>0.999953</td>\n",
       "      <td>0.999992</td>\n",
       "      <td>0.987220</td>\n",
       "    </tr>\n",
       "  </tbody>\n",
       "</table>\n",
       "</div>"
      ],
      "text/plain": [
       "                  A             X             Y             Z           q_Y  \\\n",
       "count  40000.000000  4.000000e+04  40000.000000  40000.000000  40000.000000   \n",
       "mean       0.532300  7.166114e-01      0.254621      0.185240      0.505733   \n",
       "std        0.498962  9.710038e-01      1.019200      0.867524      0.278544   \n",
       "min        0.000000  9.363110e-07     -3.638135     -2.667778      0.000015   \n",
       "25%        0.000000  5.542057e-02     -0.448245     -0.435076      0.265147   \n",
       "50%        1.000000  2.554738e-01      0.225761      0.145190      0.499506   \n",
       "75%        1.000000  9.808741e-01      0.944640      0.757682      0.746240   \n",
       "max        1.000000  4.247015e+00      3.940851      4.326782      0.999953   \n",
       "\n",
       "                q_Z        rho_zy  \n",
       "count  40000.000000  40000.000000  \n",
       "mean       0.549920      0.655995  \n",
       "std        0.263961      0.145043  \n",
       "min        0.003818      0.524979  \n",
       "25%        0.331754      0.538777  \n",
       "50%        0.557720      0.587944  \n",
       "75%        0.775679      0.746659  \n",
       "max        0.999992      0.987220  "
      ]
     },
     "execution_count": 17,
     "metadata": {},
     "output_type": "execute_result"
    }
   ],
   "source": [
    "%%time\n",
    "sim_data = cop_mod.simulate_data(num_warmup=1000, num_samples=1_0000, joint_status='mixed', seed=0)\n",
    "pd.DataFrame(sim_data['data']).describe()"
   ]
  },
  {
   "cell_type": "markdown",
   "id": "554df9c6-53e3-435a-978d-69ba2674854c",
   "metadata": {},
   "source": [
    "## Didelez Model"
   ]
  },
  {
   "cell_type": "markdown",
   "id": "aec67da5-41ce-4fcc-92f2-54304c0242fa",
   "metadata": {},
   "source": [
    "Let's draw data from the model discussed in Evans and Didelez (2021):"
   ]
  },
  {
   "cell_type": "code",
   "execution_count": 18,
   "id": "a8c19762-49cf-40df-a1ba-b637123c4948",
   "metadata": {},
   "outputs": [],
   "source": [
    "didelez_spec = {\n",
    "    'A': {\n",
    "        'dist': dist.BernoulliProbs, \n",
    "        'formula': {'probs': 'A ~ 1'}, \n",
    "        'coeffs': {'probs': [0.]}, \n",
    "        'link': {'probs': jax.nn.sigmoid}\n",
    "    },\n",
    "    'L': {\n",
    "        'dist': dist.Exponential, \n",
    "        'formula': {'rate': 'L ~ A'}, \n",
    "        'coeffs': {'rate': [-0.3, -0.2]}, \n",
    "        'link': {'rate': jnp.exp}\n",
    "    },\n",
    "    'B': {\n",
    "        'dist': dist.BernoulliProbs, \n",
    "        'formula': {'probs': 'B ~ A + L + A * L'}, \n",
    "        'coeffs': {'probs': [-0.3, 0.4, 0.3, 0.]}, \n",
    "        'link': {'probs': jax.nn.sigmoid}\n",
    "    },\n",
    "    'Y': {\n",
    "        'dist': dist.Normal, \n",
    "        'formula': {'loc': 'Y ~ A + B + jnp.square(A : B)', 'scale': 'Y ~ 1'},\n",
    "        'coeffs': {'loc': [-0.5, 0.2, 0.3, 0.], 'scale': [1.]},\n",
    "        'link': {'loc': None, 'scale': None}\n",
    "    },\n",
    "    'copula': {\n",
    "        'class': copula_lpdfs.multivar_gaussian_copula_lpdf,\n",
    "        'vars': ['L', 'Y'],\n",
    "        'formula': {'rho': 'cop ~ 1'},\n",
    "        'coeffs': {'rho': [1.]},\n",
    "        'link': {'rho': jax.nn.sigmoid}\n",
    "    }\n",
    "}"
   ]
  },
  {
   "cell_type": "code",
   "execution_count": 19,
   "id": "ac37e38b-aa1f-4073-b4ff-206b36cd0f3f",
   "metadata": {
    "tags": []
   },
   "outputs": [
    {
     "name": "stdout",
     "output_type": "stream",
     "text": [
      "WARNING: CHECK PASSES AUTOMATICALLY. FULL SOLUTION ADDED TBC\n"
     ]
    },
    {
     "data": {
      "text/plain": [
       "{'A': {'dist': numpyro.distributions.discrete.BernoulliProbs,\n",
       "  'formula': {'probs': 'A ~ 1'},\n",
       "  'coeffs': {'probs': [0.0]},\n",
       "  'link': {'probs': <PjitFunction of <function sigmoid at 0x1136ed040>>},\n",
       "  'linear_predictor': {'probs': '0.0'}},\n",
       " 'L': {'dist': numpyro.distributions.continuous.Exponential,\n",
       "  'formula': {'rate': \"L ~ 1 + record_dict['A']\"},\n",
       "  'coeffs': {'rate': [-0.3, -0.2]},\n",
       "  'link': {'rate': <PjitFunction of <function jax.numpy.exp at 0x1133b5a60>>},\n",
       "  'linear_predictor': {'rate': \"-0.3 + -0.2 * record_dict['A']\"}},\n",
       " 'B': {'dist': numpyro.distributions.discrete.BernoulliProbs,\n",
       "  'formula': {'probs': \"B ~ 1 + record_dict['A'] + record_dict['L'] + record_dict['A'] * record_dict['L']\"},\n",
       "  'coeffs': {'probs': [-0.3, 0.4, 0.3, 0.0]},\n",
       "  'link': {'probs': <PjitFunction of <function sigmoid at 0x1136ed040>>},\n",
       "  'linear_predictor': {'probs': \"-0.3 + 0.4 * record_dict['A'] + 0.3 * record_dict['L'] + 0.0 * record_dict['A']*record_dict['L']\"}},\n",
       " 'Y': {'dist': numpyro.distributions.continuous.Normal,\n",
       "  'formula': {'loc': \"Y ~ 1 + record_dict['A'] + record_dict['B'] + jnp.square(record_dict['A']* record_dict['B'])\",\n",
       "   'scale': 'Y ~ 1'},\n",
       "  'coeffs': {'loc': [-0.5, 0.2, 0.3, 0.0], 'scale': [1.0]},\n",
       "  'link': {'loc': None, 'scale': None},\n",
       "  'linear_predictor': {'loc': \"-0.5 + 0.2 * record_dict['A'] + 0.3 * record_dict['B'] + 0.0 * jnp.square(record_dict['A'] * record_dict['B'])\",\n",
       "   'scale': '1.0'}},\n",
       " 'copula': {'class': <function frugalCopyla.copula_lpdfs.multivar_gaussian_copula_lpdf(vars: dict, rhos: dict) -> float>,\n",
       "  'vars': ['L', 'Y'],\n",
       "  'corr_linear_predictor': {'rho': '1.0'},\n",
       "  'link': {'rho': <PjitFunction of <function sigmoid at 0x1136ed040>>},\n",
       "  'misc': {}}}"
      ]
     },
     "execution_count": 19,
     "metadata": {},
     "output_type": "execute_result"
    }
   ],
   "source": [
    "didelez_model = CopulaModel(didelez_spec)\n",
    "didelez_model.parsed_model"
   ]
  },
  {
   "cell_type": "code",
   "execution_count": 25,
   "id": "cb31d2eb-a1fc-43e0-933f-4e1e7da89b74",
   "metadata": {},
   "outputs": [
    {
     "name": "stderr",
     "output_type": "stream",
     "text": [
      "/Users/danielmanela/Library/CloudStorage/GoogleDrive-danielmanela@gmail.com/My Drive/work/Oxford/Causal_Copulas/frugalCopyla/frugalCopyla/model.py:122: UserWarning: There are not enough devices to run parallel chains: expected 4 but got 1. Chains will be drawn sequentially. If you are running MCMC in CPU, consider using `numpyro.set_host_device_count(4)` at the beginning of your program. You can double-check how many devices are available in your system using `jax.local_device_count()`.\n",
      "  mcmc_model = numpyro.infer.MCMC(\n"
     ]
    },
    {
     "name": "stdout",
     "output_type": "stream",
     "text": [
      "CPU times: user 6.4 s, sys: 87.1 ms, total: 6.48 s\n",
      "Wall time: 6.46 s\n"
     ]
    },
    {
     "data": {
      "text/html": [
       "<div>\n",
       "<style scoped>\n",
       "    .dataframe tbody tr th:only-of-type {\n",
       "        vertical-align: middle;\n",
       "    }\n",
       "\n",
       "    .dataframe tbody tr th {\n",
       "        vertical-align: top;\n",
       "    }\n",
       "\n",
       "    .dataframe thead th {\n",
       "        text-align: right;\n",
       "    }\n",
       "</style>\n",
       "<table border=\"1\" class=\"dataframe\">\n",
       "  <thead>\n",
       "    <tr style=\"text-align: right;\">\n",
       "      <th></th>\n",
       "      <th>A</th>\n",
       "      <th>B</th>\n",
       "      <th>L</th>\n",
       "      <th>Y</th>\n",
       "      <th>q_L</th>\n",
       "      <th>q_Y</th>\n",
       "      <th>rho</th>\n",
       "    </tr>\n",
       "  </thead>\n",
       "  <tbody>\n",
       "    <tr>\n",
       "      <th>count</th>\n",
       "      <td>400000.000000</td>\n",
       "      <td>400000.000000</td>\n",
       "      <td>400000.000000</td>\n",
       "      <td>400000.000000</td>\n",
       "      <td>400000.000000</td>\n",
       "      <td>400000.000000</td>\n",
       "      <td>400000.000000</td>\n",
       "    </tr>\n",
       "    <tr>\n",
       "      <th>mean</th>\n",
       "      <td>0.500058</td>\n",
       "      <td>0.580078</td>\n",
       "      <td>1.499110</td>\n",
       "      <td>-0.226597</td>\n",
       "      <td>0.499795</td>\n",
       "      <td>0.499902</td>\n",
       "      <td>0.731058</td>\n",
       "    </tr>\n",
       "    <tr>\n",
       "      <th>std</th>\n",
       "      <td>0.500001</td>\n",
       "      <td>0.493547</td>\n",
       "      <td>1.514706</td>\n",
       "      <td>1.036118</td>\n",
       "      <td>0.288764</td>\n",
       "      <td>0.288668</td>\n",
       "      <td>0.000000</td>\n",
       "    </tr>\n",
       "    <tr>\n",
       "      <th>min</th>\n",
       "      <td>0.000000</td>\n",
       "      <td>0.000000</td>\n",
       "      <td>0.000014</td>\n",
       "      <td>-4.891994</td>\n",
       "      <td>0.000008</td>\n",
       "      <td>0.000002</td>\n",
       "      <td>0.731059</td>\n",
       "    </tr>\n",
       "    <tr>\n",
       "      <th>25%</th>\n",
       "      <td>0.000000</td>\n",
       "      <td>0.000000</td>\n",
       "      <td>0.427508</td>\n",
       "      <td>-0.926899</td>\n",
       "      <td>0.250198</td>\n",
       "      <td>0.250290</td>\n",
       "      <td>0.731059</td>\n",
       "    </tr>\n",
       "    <tr>\n",
       "      <th>50%</th>\n",
       "      <td>1.000000</td>\n",
       "      <td>1.000000</td>\n",
       "      <td>1.028983</td>\n",
       "      <td>-0.232665</td>\n",
       "      <td>0.499011</td>\n",
       "      <td>0.499403</td>\n",
       "      <td>0.731059</td>\n",
       "    </tr>\n",
       "    <tr>\n",
       "      <th>75%</th>\n",
       "      <td>1.000000</td>\n",
       "      <td>1.000000</td>\n",
       "      <td>2.071836</td>\n",
       "      <td>0.474790</td>\n",
       "      <td>0.749955</td>\n",
       "      <td>0.750754</td>\n",
       "      <td>0.731059</td>\n",
       "    </tr>\n",
       "    <tr>\n",
       "      <th>max</th>\n",
       "      <td>1.000000</td>\n",
       "      <td>1.000000</td>\n",
       "      <td>19.173363</td>\n",
       "      <td>4.294531</td>\n",
       "      <td>0.999992</td>\n",
       "      <td>0.999995</td>\n",
       "      <td>0.731059</td>\n",
       "    </tr>\n",
       "  </tbody>\n",
       "</table>\n",
       "</div>"
      ],
      "text/plain": [
       "                   A              B              L              Y  \\\n",
       "count  400000.000000  400000.000000  400000.000000  400000.000000   \n",
       "mean        0.500058       0.580078       1.499110      -0.226597   \n",
       "std         0.500001       0.493547       1.514706       1.036118   \n",
       "min         0.000000       0.000000       0.000014      -4.891994   \n",
       "25%         0.000000       0.000000       0.427508      -0.926899   \n",
       "50%         1.000000       1.000000       1.028983      -0.232665   \n",
       "75%         1.000000       1.000000       2.071836       0.474790   \n",
       "max         1.000000       1.000000      19.173363       4.294531   \n",
       "\n",
       "                 q_L            q_Y            rho  \n",
       "count  400000.000000  400000.000000  400000.000000  \n",
       "mean        0.499795       0.499902       0.731058  \n",
       "std         0.288764       0.288668       0.000000  \n",
       "min         0.000008       0.000002       0.731059  \n",
       "25%         0.250198       0.250290       0.731059  \n",
       "50%         0.499011       0.499403       0.731059  \n",
       "75%         0.749955       0.750754       0.731059  \n",
       "max         0.999992       0.999995       0.731059  "
      ]
     },
     "execution_count": 25,
     "metadata": {},
     "output_type": "execute_result"
    }
   ],
   "source": [
    "%%time\n",
    "didelez_samples = didelez_model.simulate_data(num_warmup=1000, num_samples=100_000, joint_status='mixed', seed=2)\n",
    "pd.DataFrame(didelez_samples['data']).describe()"
   ]
  },
  {
   "cell_type": "markdown",
   "id": "78817bfa-d440-442e-bfaf-c9cc752fc3eb",
   "metadata": {},
   "source": [
    "### Test whether the original parameters can be extracted via MLE"
   ]
  },
  {
   "cell_type": "markdown",
   "id": "b55d093d-778a-4983-91d4-57bddb4f4a4a",
   "metadata": {},
   "source": [
    "Using `numpyro` inference, let's see which parameter values are inferred."
   ]
  },
  {
   "cell_type": "code",
   "execution_count": 26,
   "id": "102d4899-f8c8-4059-b3bd-28dc79cfa192",
   "metadata": {},
   "outputs": [],
   "source": [
    "def gaussian_copula_lpdf(u, v, rho):\n",
    "    u_2 = jnp.square(u)\n",
    "    v_2 = jnp.square(v)\n",
    "    rho_2 = jnp.square(rho)\n",
    "    return (\n",
    "        -0.5 * (1 - rho_2) - (\n",
    "            rho_2 * (u_2 + v_2) - 2 * rho * u * v\n",
    "        ) / (2 * (1 - rho_2))\n",
    "    )\n",
    "\n",
    "\n",
    "def base_didelez_model_inference(y_obs=None, \n",
    "                                 a_obs=None,\n",
    "                                 b_obs=None,\n",
    "                                 l_obs=None,\n",
    "                                 sigma_y=1):\n",
    "    \n",
    "    a_const_sigmoid = numpyro.sample('a_const_sigmoid',\n",
    "        numpyro.distributions.ImproperUniform(\n",
    "            numpyro.distributions.constraints.real,\n",
    "            batch_shape=(), \n",
    "            event_shape=()\n",
    "        )\n",
    "    )\n",
    "    alpha_0 = numpyro.sample('alpha_0',\n",
    "        numpyro.distributions.ImproperUniform(\n",
    "            numpyro.distributions.constraints.real,\n",
    "            batch_shape=(), \n",
    "            event_shape=()\n",
    "        )\n",
    "    )\n",
    "    alpha_a = numpyro.sample('alpha_a',\n",
    "        numpyro.distributions.ImproperUniform(\n",
    "            numpyro.distributions.constraints.real,\n",
    "            batch_shape=(), \n",
    "            event_shape=()\n",
    "        )\n",
    "    )\n",
    "    gamma_0 = numpyro.sample('gamma_0',\n",
    "        numpyro.distributions.ImproperUniform(\n",
    "            numpyro.distributions.constraints.real,\n",
    "            batch_shape=(), \n",
    "            event_shape=()\n",
    "        )\n",
    "    )\n",
    "    gamma_a = numpyro.sample('gamma_a',\n",
    "        numpyro.distributions.ImproperUniform(\n",
    "            numpyro.distributions.constraints.real,\n",
    "            batch_shape=(), \n",
    "            event_shape=()\n",
    "        )\n",
    "    )\n",
    "    gamma_l = numpyro.sample('gamma_l',\n",
    "        numpyro.distributions.ImproperUniform(\n",
    "            numpyro.distributions.constraints.real,\n",
    "            batch_shape=(), \n",
    "            event_shape=()\n",
    "        )\n",
    "    )    \n",
    "    gamma_al = numpyro.sample('gamma_al',\n",
    "        numpyro.distributions.ImproperUniform(\n",
    "            numpyro.distributions.constraints.real,\n",
    "            batch_shape=(), \n",
    "            event_shape=()\n",
    "        )\n",
    "    )\n",
    "    beta_0 = numpyro.sample('beta_0',\n",
    "        numpyro.distributions.ImproperUniform(\n",
    "            numpyro.distributions.constraints.real,\n",
    "            batch_shape=(), \n",
    "            event_shape=()\n",
    "        )\n",
    "    )\n",
    "    beta_a = numpyro.sample('beta_a',\n",
    "        numpyro.distributions.ImproperUniform(\n",
    "            numpyro.distributions.constraints.real,\n",
    "            batch_shape=(), \n",
    "            event_shape=()\n",
    "        )\n",
    "    )\n",
    "    beta_b = numpyro.sample('beta_b',\n",
    "        numpyro.distributions.ImproperUniform(\n",
    "            numpyro.distributions.constraints.real,\n",
    "            batch_shape=(), \n",
    "            event_shape=()\n",
    "        )\n",
    "    )\n",
    "    beta_ab = numpyro.sample('beta_ab',\n",
    "        numpyro.distributions.ImproperUniform(\n",
    "            numpyro.distributions.constraints.real,\n",
    "            batch_shape=(), \n",
    "            event_shape=()\n",
    "        )\n",
    "    ) \n",
    "    \n",
    "    A = numpyro.sample(\"a\", dist.Bernoulli(jax.nn.sigmoid(a_const_sigmoid)), obs=a_obs)\n",
    "    L_mu = jnp.exp(-(alpha_0 + alpha_a * A))\n",
    "    L = numpyro.sample(\"l\", dist.Exponential(L_mu), obs=l_obs)\n",
    "    quantiles_L = dist.Exponential(L_mu).cdf(L)\n",
    "    \n",
    "    B_prob = jax.nn.sigmoid(\n",
    "        gamma_0 + gamma_a * A + gamma_l * L + gamma_al * A * L\n",
    "    )    \n",
    "    B = numpyro.sample(\"b\", dist.Bernoulli(B_prob), obs=b_obs)    \n",
    "\n",
    "    Y_mean = beta_0 + beta_a * A + beta_b * B + beta_ab * A * B\n",
    "    Y = numpyro.sample(\"y\", dist.Normal(Y_mean, sigma_y), obs=y_obs)\n",
    "    quantiles_Y = dist.Normal(Y_mean, sigma_y).cdf(Y)\n",
    "\n",
    "    \n",
    "    # Choosing an arbitrary sigmoidal function for rho_ly\n",
    "    rho_LY_val = numpyro.sample('rho_ly', dist.Beta(1, 1))\n",
    "    \n",
    "    # `numpyro.factor()` appears to add a log-likelihood to the sampling space\n",
    "    # If you want to add the renormalising factors, we can simply add or subtract\n",
    "    # log-likelihood factors similar to what we do on the line below.\n",
    "    std_normal_L = dist.Normal(0, 1).icdf(quantiles_L)\n",
    "    std_normal_Y = dist.Normal(0, 1).icdf(quantiles_Y)\n",
    "\n",
    "    cop_log_prob = numpyro.factor('cop_log_prob', gaussian_copula_lpdf(std_normal_L, std_normal_Y, rho_LY_val))"
   ]
  },
  {
   "cell_type": "code",
   "execution_count": 27,
   "id": "d7bd9f79-1483-4611-bfae-8392db82917c",
   "metadata": {},
   "outputs": [
    {
     "data": {
      "text/plain": [
       "{'a_const_sigmoid': 0.195254015709299,\n",
       " 'alpha_0': 0.8607574654896779,\n",
       " 'alpha_a': 0.4110535042865755,\n",
       " 'gamma_0': 0.17953273198758746,\n",
       " 'gamma_a': -0.30538080264438117,\n",
       " 'gamma_l': 0.5835764522666245,\n",
       " 'gamma_al': -0.24965115494922996,\n",
       " 'beta_0': 1.567092003128319,\n",
       " 'beta_a': 1.8546510420041171,\n",
       " 'beta_b': -0.4662339246968892,\n",
       " 'beta_ab': 1.1669001523306584,\n",
       " 'rho_ly': 0.5544356488751458}"
      ]
     },
     "execution_count": 27,
     "metadata": {},
     "output_type": "execute_result"
    }
   ],
   "source": [
    "true_params = {\n",
    "    'a_const_sigmoid': 0.0,\n",
    "    'alpha_0': 0.3,\n",
    "    'alpha_a': 0.2,\n",
    "    'gamma_0': -0.3,\n",
    "    'gamma_a': 0.4,\n",
    "    'gamma_l': 0.3,\n",
    "    'gamma_al': 0.,\n",
    "    'beta_0': -0.5,\n",
    "    'beta_a': 0.2,\n",
    "    'beta_b': 0.3,\n",
    "    'beta_ab': 0.,\n",
    "    'rho_ly': round(float(jax.nn.sigmoid(1.)), 2)\n",
    "}\n",
    "true_params_df = pd.DataFrame.from_dict(true_params, orient='index', columns=['True Params'])\n",
    "np.random.seed(0)\n",
    "starting_params = {k: np.random.uniform(-2., 2.) for k in true_params.keys()}\n",
    "starting_params['rho_ly'] = np.random.uniform(0.1, 0.9)\n",
    "starting_params"
   ]
  },
  {
   "cell_type": "code",
   "execution_count": 28,
   "id": "931e2bc3-dc35-480b-bb01-1c90f33e0cde",
   "metadata": {
    "tags": []
   },
   "outputs": [],
   "source": [
    "def llhood(params, a_obs, b_obs, l_obs, y_obs):\n",
    "    llhood = -1 * numpyro.infer.util.log_density(\n",
    "        base_didelez_model_inference, \n",
    "        (),\n",
    "        {\n",
    "            \"a_obs\": a_obs,\n",
    "            \"b_obs\": b_obs,\n",
    "            \"l_obs\": l_obs,\n",
    "            \"y_obs\": y_obs\n",
    "        },\n",
    "        params=params\n",
    "    )[0]\n",
    "    return llhood\n",
    "\n",
    "def dllhood(params, a_obs, b_obs, l_obs, y_obs):\n",
    "    return jax.grad(llhood)(params, a_obs, b_obs, l_obs, y_obs)\n",
    "\n",
    "@jax.jit\n",
    "def step(params, opt_state, a_obs, b_obs, l_obs, y_obs):\n",
    "    loss = llhood(params, a_obs, b_obs, l_obs, y_obs)\n",
    "    grads = dllhood(params, a_obs, b_obs, l_obs, y_obs)\n",
    "    opt_state = opt_update(0, grads, opt_state)\n",
    "    params = get_params(opt_state)\n",
    "    return params, opt_state, loss"
   ]
  },
  {
   "cell_type": "markdown",
   "id": "63458b65-501e-4311-a211-9c28e3a4faa2",
   "metadata": {},
   "source": [
    "### Using Random Initialisation"
   ]
  },
  {
   "cell_type": "code",
   "execution_count": 29,
   "id": "d143cc64-103f-4587-a3a6-94f171f53dd2",
   "metadata": {},
   "outputs": [
    {
     "name": "stderr",
     "output_type": "stream",
     "text": [
      " 30%|███████████████████▏                                            | 3000/10000 [01:47<04:09, 28.01it/s, Convergence=True, Loss=1744575.1250000000, SMA Loss=1744575.375000]\n"
     ]
    }
   ],
   "source": [
    "max_epochs = 10_000\n",
    "batch_size = 1000_000\n",
    "losses = list()\n",
    "sma_losses = list()\n",
    "param_estimates = {k: [v] for k, v in starting_params.items()}\n",
    "postfix = {}\n",
    "\n",
    "opt_init, opt_update, get_params = jax.example_libraries.optimizers.adam(1e-2)\n",
    "opt_state = opt_init(starting_params)\n",
    "# opt_state = opt_init(true_params)\n",
    "params = get_params(opt_state)\n",
    "\n",
    "\n",
    "with tqdm.trange(max_epochs) as bar:\n",
    "    for i in bar:\n",
    "        shuffled_data = pd.DataFrame(didelez_samples['data']).sample(frac = 1)            \n",
    "        for n in range(math.ceil(shuffled_data.shape[0]/batch_size)):\n",
    "            batch_df = shuffled_data[n:(n+batch_size)]\n",
    "        # for i in tqdm.tqdm(range(max_epochs)):\n",
    "            params, opt_state, value = step(\n",
    "                params,\n",
    "                opt_state,\n",
    "                batch_df[['A']].values,\n",
    "                batch_df[['B']].values,\n",
    "                batch_df[['L']].values,\n",
    "                batch_df[['Y']].values\n",
    "            )\n",
    "            losses.append(float(value))\n",
    "            postfix = {}\n",
    "            if len(losses) > 0:\n",
    "                sma_losses.append(round(float(np.mean(losses[-10:])), 6))\n",
    "                postfix[\"sma_Loss\"] = f\"{jnp.array(sma_losses[-1]):.6f}\"                \n",
    "\n",
    "            for ikey in params.keys():\n",
    "                postfix[ikey] = f\"{params[ikey]:.2f}\"\n",
    "                param_estimates[ikey].append(params[ikey])\n",
    "            postfix[\"Loss\"] = f\"{jnp.array(losses[-1]):.10f}\"\n",
    "\n",
    "            # update progress bar\n",
    "            if not n % 50:\n",
    "                bar.set_postfix({'Loss': postfix['Loss'], 'SMA Loss': postfix['sma_Loss']})\n",
    "            n_epochs = i + 1\n",
    "                \n",
    "        if (len(sma_losses) > 20):\n",
    "            if len(set(sma_losses[-5:-1])) == 1:\n",
    "                bar.set_postfix({'Convergence': 'True', 'Loss': postfix['Loss'], 'SMA Loss': postfix['sma_Loss']})\n",
    "                break"
   ]
  },
  {
   "cell_type": "code",
   "execution_count": 30,
   "id": "83e7c864-57cd-4420-8280-418cef23f6ae",
   "metadata": {},
   "outputs": [
    {
     "data": {
      "image/png": "[encoded data removed]",
      "text/plain": [
       "<Figure size 2000x1500 with 12 Axes>"
      ]
     },
     "metadata": {},
     "output_type": "display_data"
    }
   ],
   "source": [
    "f, axs = plt.subplots(3, 4, figsize=(20, 15))\n",
    "\n",
    "param_names = list(true_params.keys())\n",
    "for i, ax in enumerate(f.axes):\n",
    "    ax.plot(range(n_epochs+1), np.array(param_estimates[param_names[i]]), label='Lhood Estimate')\n",
    "    ax.axhline(true_params[param_names[i]], color='r', label='True Value')\n",
    "    # li.set_label('True Value')\n",
    "    ax.title.set_text(f'Value for {param_names[i]}')\n",
    "    ax.legend()"
   ]
  },
  {
   "cell_type": "markdown",
   "id": "70568d06-7dda-4941-98a6-b7404b9e0986",
   "metadata": {},
   "source": [
    "Not too shabby!"
   ]
  }
 ],
 "metadata": {
  "kernelspec": {
   "display_name": "Python 3 (ipykernel)",
   "language": "python",
   "name": "python3"
  },
  "language_info": {
   "codemirror_mode": {
    "name": "ipython",
    "version": 3
   },
   "file_extension": ".py",
   "mimetype": "text/x-python",
   "name": "python",
   "nbconvert_exporter": "python",
   "pygments_lexer": "ipython3",
   "version": "3.11.1"
  },
  "vscode": {
   "interpreter": {
    "hash": "db26708ef00414117daee5e8c0675c5ccd18f697aaeea3e215a4d3b6269c986c"
   }
  }
 },
 "nbformat": 4,
 "nbformat_minor": 5
}
